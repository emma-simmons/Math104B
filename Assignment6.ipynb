{
 "cells": [
  {
   "cell_type": "markdown",
   "metadata": {},
   "source": [
    "Emma Simmons, Date last modified: 3/1/21"
   ]
  },
  {
   "cell_type": "code",
   "execution_count": 5,
   "metadata": {},
   "outputs": [],
   "source": [
    "import math\n",
    "import numpy as np\n",
    "import matplotlib.pyplot as plt\n",
    "from numpy import linalg as LA"
   ]
  },
  {
   "cell_type": "markdown",
   "metadata": {},
   "source": [
    "$\\textbf{Question 1(a).}$"
   ]
  },
  {
   "cell_type": "code",
   "execution_count": 6,
   "metadata": {},
   "outputs": [],
   "source": [
    "#solves a tridiagonal system\n",
    "#A is the tridiagonal matrix, d is the column vector\n",
    "#outputs the x vector that was solved for\n",
    "\n",
    "def tridiagonal_slvr(A,d):\n",
    "    n=len(d)\n",
    "    a=np.zeros(n)\n",
    "    c=np.zeros(n-1)\n",
    "    b=np.zeros(n-1)\n",
    "    for i in range(0,n-2):\n",
    "        a[i]=A[i][i]\n",
    "        c[i]=A[i+1][i]\n",
    "        b[i]=A[i][i+1]\n",
    "    c[n-2]=A[n-1][n-2]\n",
    "    b[n-2]=A[n-2][n-1]\n",
    "    a[n-2]=A[n-2][n-2]\n",
    "    a[n-1]=A[-1][-1]\n",
    "    m=np.zeros(n)\n",
    "    l=np.zeros(n)\n",
    "    y=np.zeros(n)\n",
    "    x=np.zeros(n)\n",
    "    m[0]=a[0]\n",
    "    for j in range(0,n-1):\n",
    "        l[j]=(c[j]/m[j])\n",
    "        m[j+1]=a[j+1]-(l[j]*b[j])\n",
    "    y[0]=d[0]\n",
    "    for j in range(1,n):\n",
    "        y[j]=d[j]-l[j-1]*y[j-1]\n",
    "    x[n-1]=y[n-1]/m[n-1]\n",
    "    for j in reversed(range(0,n-1)):\n",
    "        x[j]=(y[j]-(b[j]*x[j+1]))/m[j]\n",
    "    return x \n",
    "    "
   ]
  },
  {
   "cell_type": "markdown",
   "metadata": {},
   "source": [
    "$\\textbf{Question 1(b).}$"
   ]
  },
  {
   "cell_type": "code",
   "execution_count": 7,
   "metadata": {},
   "outputs": [
    {
     "name": "stdout",
     "output_type": "stream",
     "text": [
      "The solution according to np.linalg.solve(A, d1) is [ 0.44186047 -0.13953488  0.76744186 -0.25581395]\n",
      "The solution our tridiagonal solver returns is [ 0.44186047 -0.13953488  0.76744186 -0.25581395]\n",
      "So, our tridiagonal solver implementation is correct.\n"
     ]
    }
   ],
   "source": [
    "\n",
    "A = np.array([[1,-4,0,0], [3,4,-1,0],[0,2,3,4],[0,0,1,3]])\n",
    "\n",
    "d1 = np.array([1,0,1,0])\n",
    "x = np.linalg.solve(A, d1)\n",
    "print(\"The solution according to np.linalg.solve(A, d1) is\", x)\n",
    "\n",
    "print(\"The solution our tridiagonal solver returns is\", tridiagonal_slvr(A,d1))\n",
    "\n",
    "print(\"So, our tridiagonal solver implementation is correct.\")\n"
   ]
  },
  {
   "cell_type": "markdown",
   "metadata": {},
   "source": [
    "$\\textbf{Question 2(a).}$"
   ]
  },
  {
   "cell_type": "code",
   "execution_count": 12,
   "metadata": {},
   "outputs": [
    {
     "data": {
      "text/plain": [
       "[<matplotlib.lines.Line2D at 0x1c44ac48f10>]"
      ]
     },
     "execution_count": 12,
     "metadata": {},
     "output_type": "execute_result"
    },
    {
     "data": {
      "image/png": "[encoded data removed]",
      "text/plain": [
       "<Figure size 432x288 with 1 Axes>"
      ]
     },
     "metadata": {
      "needs_background": "light"
     },
     "output_type": "display_data"
    }
   ],
   "source": [
    "#finds a numerical approximation to the solution of the boundary value problem using the matrix form of the BVP given in class\n",
    "#N is number of nodes\n",
    "#outputs the solution vector of the tridiagonal solver for the BVP matrix \n",
    "\n",
    "def bvp(N):\n",
    "    xj = np.linspace(0,1,N + 1)\n",
    "    h=1/N\n",
    "    A=np.zeros((N-1, N-1))\n",
    "    for i in range(0,N-2):\n",
    "        A[i][i]=2+((np.pi**2)*(h**2))\n",
    "        A[i+1][i]=-1\n",
    "        A[i][i+1]=-1\n",
    "    A[N-2][N-2]=2+((np.pi**2)*(h**2))\n",
    "    return tridiagonal_slvr((1/h**2)*A, (2*np.pi**2*np.sin(np.pi*xj)[1:-1]))\n",
    "\n",
    "#plots the soltuion for N=50, u1 combines the solution of BVP solver with BVP points v1=0, vN=0\n",
    "N1=50\n",
    "xj = np.linspace(0,1,N1 + 1)\n",
    "u1= np.concatenate([[0], bvp(N1),[0]])\n",
    "plt.plot(xj,u1)"
   ]
  },
  {
   "cell_type": "markdown",
   "metadata": {},
   "source": [
    "$\\textbf{Question 2(b).}$<br>\n",
    "We will show the exact solution to the boundary value problem is $u(x)=sin(\\pi x)$. <br>\n",
    "$u'(x)=\\pi cos(\\pi x)$ <br>\n",
    "$u''(x)=-{\\pi}^2sin(\\pi x)$<br>\n",
    "$u''+\\pi^2 u=-(-{\\pi}^2sin(\\pi x))+\\pi^2 sin(\\pi x)=2\\pi^2sin(\\pi x)$<br>\n",
    "$u(0)=sin(\\pi*0)=0$<br>\n",
    "$u(1)=sin(\\pi*1)=0$<br>\n",
    "$u(0)=u(1)=0$"
   ]
  },
  {
   "cell_type": "markdown",
   "metadata": {},
   "source": [
    "$\\textbf{Question 2(c).}$"
   ]
  },
  {
   "cell_type": "code",
   "execution_count": 13,
   "metadata": {},
   "outputs": [
    {
     "name": "stdout",
     "output_type": "stream",
     "text": [
      "The error of the approximation in the 2-norm for N = 50 is 0.0008224940857685608\n",
      "The error of the approximation in the 2-norm for N = 100 is 0.0002907883995157151\n"
     ]
    },
    {
     "data": {
      "text/plain": [
       "0.3535446692531467"
      ]
     },
     "execution_count": 13,
     "metadata": {},
     "output_type": "execute_result"
    }
   ],
   "source": [
    "N1=50\n",
    "xj_1=np.linspace(0,1,N1+1)\n",
    "actual50=[np.sin(np.pi*x) for x in xj_1]\n",
    "error1=actual50-(u1)\n",
    "print(\"The error of the approximation in the 2-norm for N = 50 is\", LA.norm(error1))\n",
    "\n",
    "\n",
    "N2=100\n",
    "xj_2=np.linspace(0,1,N2+1)\n",
    "u2=np.concatenate([[0], bvp(N2),[0]])\n",
    "actual100=[np.sin(np.pi*x) for x in xj_2]\n",
    "error2=actual100-(u2)\n",
    "print(\"The error of the approximation in the 2-norm for N = 100 is\", LA.norm(error2))\n",
    "\n",
    "\n",
    "\n",
    "LA.norm(error2)/LA.norm(error1)"
   ]
  },
  {
   "cell_type": "markdown",
   "metadata": {},
   "source": [
    "Since the expected numerical error is $O(h^2)$ and here $h=1/N$, we expect doubling $N$ to decrease the error by a factor of $1/4$ or $0.25$, but instead we get approxmately $0.35$."
   ]
  },
  {
   "cell_type": "markdown",
   "metadata": {},
   "source": [
    "$\\textbf{Question 2(d).}$"
   ]
  },
  {
   "cell_type": "markdown",
   "metadata": {},
   "source": [
    "To find the convergence without an exact solution, we could check the spectral radius of the iteration matrix of the given matrix, and if it is less than 1, we know it will converge. To find the rate of convergence, we can increase the nodes, N, by a consistent factor of 2 for example and then find the ratio of the errors. Then, we take $log_2(x)$, where $x$ is the ratio that was just found to obtain the rate of convergence. "
   ]
  }
 ],
 "metadata": {
  "kernelspec": {
   "display_name": "Python 3",
   "language": "python",
   "name": "python3"
  },
  "language_info": {
   "codemirror_mode": {
    "name": "ipython",
    "version": 3
   },
   "file_extension": ".py",
   "mimetype": "text/x-python",
   "name": "python",
   "nbconvert_exporter": "python",
   "pygments_lexer": "ipython3",
   "version": "3.8.3"
  }
 },
 "nbformat": 4,
 "nbformat_minor": 4
}
