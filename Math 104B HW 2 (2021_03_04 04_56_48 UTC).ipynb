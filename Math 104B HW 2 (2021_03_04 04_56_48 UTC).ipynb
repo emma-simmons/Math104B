{
 "cells": [
  {
   "cell_type": "markdown",
   "metadata": {},
   "source": [
    "Emma Simmons, Date last modified:1/19/21"
   ]
  },
  {
   "cell_type": "markdown",
   "metadata": {},
   "source": [
    "Question 1(a):"
   ]
  },
  {
   "cell_type": "code",
   "execution_count": 3,
   "metadata": {},
   "outputs": [
    {
     "name": "stdout",
     "output_type": "stream",
     "text": [
      "1.6514705137461927\n",
      "1.6494083237722634\n",
      "1.648893017866171\n",
      "1.6487642064853247\n",
      "1.6487320045835219\n",
      "1.6487239541670817\n",
      "1.6487219415666488\n",
      "1.6487214384167714\n",
      "1.648721312629391\n",
      "1.6487212811824747\n",
      "1.6487212733215983\n"
     ]
    }
   ],
   "source": [
    "import math\n",
    "import numpy as np\n",
    "\n",
    "def f(x):\n",
    "    return math.exp(x)\n",
    "#computes centered difference approximation, x_0 is x value, f is function, h is the h value \n",
    "def centered_diff(x_0, f, h):\n",
    "    f_prime=(f(x_0+h)-f(x_0-h))/(2*h)\n",
    "    return f_prime\n",
    "\n",
    "h1=[(0.1/2**n) for n in range(0,11)]\n",
    "for h in h1:\n",
    "        print(centered_diff(0.5, f, h))"
   ]
  },
  {
   "cell_type": "code",
   "execution_count": 4,
   "metadata": {
    "scrolled": true
   },
   "outputs": [
    {
     "name": "stdout",
     "output_type": "stream",
     "text": [
      "4.0018752930013735\n",
      "4.000468768421906\n",
      "4.0001171867041\n",
      "4.00002932050765\n",
      "4.000007308074862\n",
      "4.000001835845735\n",
      "4.000002824380049\n",
      "3.999990962004266\n",
      "4.00043387085111\n"
     ]
    }
   ],
   "source": [
    "h1=[(0.1/2**n) for n in range(0,11)]\n",
    "error=[abs(np.exp(0.5)-centered_diff(0.5, f, h)) for h in h1]\n",
    "for i in range(0,9):\n",
    "    print((error[i]-error[i+1])/(error[i+1]-error[i+2]))"
   ]
  },
  {
   "cell_type": "markdown",
   "metadata": {},
   "source": [
    "As we can see above, because $2^q=4$ so $q=2$, we know this has a quadratic rate of convergence. "
   ]
  },
  {
   "cell_type": "markdown",
   "metadata": {},
   "source": [
    "Question 1(b): From page 108 in the notes, (7.14) gives us a formula to find $h_0$ such that we get the minimum total error, where $M_3$=$f'''(\\xi)$. SInce h is small, we can take $M_3$ to be $f'''(e^x)=e^x$ where $x=1/2$."
   ]
  },
  {
   "cell_type": "code",
   "execution_count": 5,
   "metadata": {},
   "outputs": [
    {
     "name": "stdout",
     "output_type": "stream",
     "text": [
      "The optimal value that gives the minimum total error is h_0= 8.733476581980381e-06\n"
     ]
    }
   ],
   "source": [
    "#computes h_0 value \n",
    "eps= 2**-52\n",
    "M3=np.exp(1/2)\n",
    "h_0=((3*eps*abs(np.exp(1/2))/M3))**(1/3)\n",
    "\n",
    "print(\"The optimal value that gives the minimum total error is h_0=\", h_0)"
   ]
  },
  {
   "cell_type": "code",
   "execution_count": 6,
   "metadata": {},
   "outputs": [
    {
     "data": {
      "text/plain": [
       "7.623296525288703e-21"
      ]
     },
     "execution_count": 6,
     "metadata": {},
     "output_type": "execute_result"
    }
   ],
   "source": [
    "def E_prime(h):\n",
    "    return ((1/3)*(h)*M3)-((np.exp(1/2)*(eps)/(h**2)))\n",
    "\n",
    "E_prime(h_0)"
   ]
  },
  {
   "cell_type": "markdown",
   "metadata": {},
   "source": [
    "We can see that $h_0$ is of the form $c*eps^{1/3}$ as necessary. Additionally, when plugged into the derivative of the error, it gives a number close to 0 so it gives minimum error. "
   ]
  },
  {
   "cell_type": "markdown",
   "metadata": {},
   "source": [
    "Question 1(c):"
   ]
  },
  {
   "cell_type": "code",
   "execution_count": 7,
   "metadata": {},
   "outputs": [
    {
     "name": "stdout",
     "output_type": "stream",
     "text": [
      "16.379012781095668\n",
      "16.093999619819336\n",
      "16.0234530145537\n",
      "16.005861374980807\n",
      "16.00150388290999\n",
      "16.002017771195852\n"
     ]
    }
   ],
   "source": [
    "h2=[(1/2**n) for n in range(0,11)]\n",
    "#computes Richardson's extrapolation of centered difference approximation, x_0 is x value, f is function, h is the h value\n",
    "def D_h_ext(x_0, f, h):\n",
    "    return ((4*centered_diff(x_0, f, h/2))-centered_diff(x_0, f, h))/3\n",
    "\n",
    "rich_extrap=[D_h_ext(0.5, f, h) for h in h2]\n",
    "rich_extrap\n",
    "\n",
    "for i in range(0,6):\n",
    "    print((rich_extrap[i]-rich_extrap[i+1])/(rich_extrap[i+1]-rich_extrap[i+2]))"
   ]
  },
  {
   "cell_type": "markdown",
   "metadata": {},
   "source": [
    "By page 110 in the notes, $h_0$ will minimize the error when $O(h_0^4)=O(eps/h_0)$, so when $h_0=eps^{1/5}$."
   ]
  },
  {
   "cell_type": "code",
   "execution_count": 8,
   "metadata": {},
   "outputs": [
    {
     "name": "stdout",
     "output_type": "stream",
     "text": [
      "The optimal value for the Richardson extrapolation is h_0= 0.000740095979741405\n"
     ]
    }
   ],
   "source": [
    "#computes h_0 for Richardson's extrapolation to get the minimum error\n",
    "Rich_h_0=(2**-52)**(1/5)\n",
    "print(\"The optimal value for the Richardson extrapolation is h_0=\",Rich_h_0)"
   ]
  },
  {
   "cell_type": "markdown",
   "metadata": {},
   "source": [
    "The rate of convergence is $q=4$ because $2^4=16$ which makes sense because we computed a fourth order approximation."
   ]
  }
 ],
 "metadata": {
  "kernelspec": {
   "display_name": "Python 3",
   "language": "python",
   "name": "python3"
  },
  "language_info": {
   "codemirror_mode": {
    "name": "ipython",
    "version": 3
   },
   "file_extension": ".py",
   "mimetype": "text/x-python",
   "name": "python",
   "nbconvert_exporter": "python",
   "pygments_lexer": "ipython3",
   "version": "3.8.3"
  }
 },
 "nbformat": 4,
 "nbformat_minor": 4
}
